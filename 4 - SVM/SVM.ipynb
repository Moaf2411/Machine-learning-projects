{
 "cells": [
  {
   "cell_type": "markdown",
   "id": "307256e5",
   "metadata": {},
   "source": [
    "# Support Vector Machines \n",
    "## Fraud in wine Project"
   ]
  },
  {
   "cell_type": "code",
   "execution_count": 1,
   "id": "dc187d3a",
   "metadata": {},
   "outputs": [],
   "source": [
    "import numpy as np\n",
    "import pandas as pd\n",
    "import matplotlib.pyplot as plt\n",
    "import seaborn as sns"
   ]
  },
  {
   "cell_type": "code",
   "execution_count": 2,
   "id": "819ab30a",
   "metadata": {},
   "outputs": [],
   "source": [
    "df = pd.read_csv('wine_fraud.csv')"
   ]
  },
  {
   "cell_type": "code",
   "execution_count": 3,
   "id": "e8bc4b8d",
   "metadata": {},
   "outputs": [
    {
     "data": {
      "text/html": [
       "<div>\n",
       "<style scoped>\n",
       "    .dataframe tbody tr th:only-of-type {\n",
       "        vertical-align: middle;\n",
       "    }\n",
       "\n",
       "    .dataframe tbody tr th {\n",
       "        vertical-align: top;\n",
       "    }\n",
       "\n",
       "    .dataframe thead th {\n",
       "        text-align: right;\n",
       "    }\n",
       "</style>\n",
       "<table border=\"1\" class=\"dataframe\">\n",
       "  <thead>\n",
       "    <tr style=\"text-align: right;\">\n",
       "      <th></th>\n",
       "      <th>fixed acidity</th>\n",
       "      <th>volatile acidity</th>\n",
       "      <th>citric acid</th>\n",
       "      <th>residual sugar</th>\n",
       "      <th>chlorides</th>\n",
       "      <th>free sulfur dioxide</th>\n",
       "      <th>total sulfur dioxide</th>\n",
       "      <th>density</th>\n",
       "      <th>pH</th>\n",
       "      <th>sulphates</th>\n",
       "      <th>alcohol</th>\n",
       "      <th>quality</th>\n",
       "      <th>type</th>\n",
       "    </tr>\n",
       "  </thead>\n",
       "  <tbody>\n",
       "    <tr>\n",
       "      <th>0</th>\n",
       "      <td>7.4</td>\n",
       "      <td>0.70</td>\n",
       "      <td>0.00</td>\n",
       "      <td>1.9</td>\n",
       "      <td>0.076</td>\n",
       "      <td>11.0</td>\n",
       "      <td>34.0</td>\n",
       "      <td>0.9978</td>\n",
       "      <td>3.51</td>\n",
       "      <td>0.56</td>\n",
       "      <td>9.4</td>\n",
       "      <td>Legit</td>\n",
       "      <td>red</td>\n",
       "    </tr>\n",
       "    <tr>\n",
       "      <th>1</th>\n",
       "      <td>7.8</td>\n",
       "      <td>0.88</td>\n",
       "      <td>0.00</td>\n",
       "      <td>2.6</td>\n",
       "      <td>0.098</td>\n",
       "      <td>25.0</td>\n",
       "      <td>67.0</td>\n",
       "      <td>0.9968</td>\n",
       "      <td>3.20</td>\n",
       "      <td>0.68</td>\n",
       "      <td>9.8</td>\n",
       "      <td>Legit</td>\n",
       "      <td>red</td>\n",
       "    </tr>\n",
       "    <tr>\n",
       "      <th>2</th>\n",
       "      <td>7.8</td>\n",
       "      <td>0.76</td>\n",
       "      <td>0.04</td>\n",
       "      <td>2.3</td>\n",
       "      <td>0.092</td>\n",
       "      <td>15.0</td>\n",
       "      <td>54.0</td>\n",
       "      <td>0.9970</td>\n",
       "      <td>3.26</td>\n",
       "      <td>0.65</td>\n",
       "      <td>9.8</td>\n",
       "      <td>Legit</td>\n",
       "      <td>red</td>\n",
       "    </tr>\n",
       "    <tr>\n",
       "      <th>3</th>\n",
       "      <td>11.2</td>\n",
       "      <td>0.28</td>\n",
       "      <td>0.56</td>\n",
       "      <td>1.9</td>\n",
       "      <td>0.075</td>\n",
       "      <td>17.0</td>\n",
       "      <td>60.0</td>\n",
       "      <td>0.9980</td>\n",
       "      <td>3.16</td>\n",
       "      <td>0.58</td>\n",
       "      <td>9.8</td>\n",
       "      <td>Legit</td>\n",
       "      <td>red</td>\n",
       "    </tr>\n",
       "    <tr>\n",
       "      <th>4</th>\n",
       "      <td>7.4</td>\n",
       "      <td>0.70</td>\n",
       "      <td>0.00</td>\n",
       "      <td>1.9</td>\n",
       "      <td>0.076</td>\n",
       "      <td>11.0</td>\n",
       "      <td>34.0</td>\n",
       "      <td>0.9978</td>\n",
       "      <td>3.51</td>\n",
       "      <td>0.56</td>\n",
       "      <td>9.4</td>\n",
       "      <td>Legit</td>\n",
       "      <td>red</td>\n",
       "    </tr>\n",
       "  </tbody>\n",
       "</table>\n",
       "</div>"
      ],
      "text/plain": [
       "   fixed acidity  volatile acidity  citric acid  residual sugar  chlorides  \\\n",
       "0            7.4              0.70         0.00             1.9      0.076   \n",
       "1            7.8              0.88         0.00             2.6      0.098   \n",
       "2            7.8              0.76         0.04             2.3      0.092   \n",
       "3           11.2              0.28         0.56             1.9      0.075   \n",
       "4            7.4              0.70         0.00             1.9      0.076   \n",
       "\n",
       "   free sulfur dioxide  total sulfur dioxide  density    pH  sulphates  \\\n",
       "0                 11.0                  34.0   0.9978  3.51       0.56   \n",
       "1                 25.0                  67.0   0.9968  3.20       0.68   \n",
       "2                 15.0                  54.0   0.9970  3.26       0.65   \n",
       "3                 17.0                  60.0   0.9980  3.16       0.58   \n",
       "4                 11.0                  34.0   0.9978  3.51       0.56   \n",
       "\n",
       "   alcohol quality type  \n",
       "0      9.4   Legit  red  \n",
       "1      9.8   Legit  red  \n",
       "2      9.8   Legit  red  \n",
       "3      9.8   Legit  red  \n",
       "4      9.4   Legit  red  "
      ]
     },
     "execution_count": 3,
     "metadata": {},
     "output_type": "execute_result"
    }
   ],
   "source": [
    "df.head()"
   ]
  },
  {
   "cell_type": "code",
   "execution_count": 4,
   "id": "f151ebde",
   "metadata": {},
   "outputs": [
    {
     "data": {
      "text/plain": [
       "array(['Legit', 'Fraud'], dtype=object)"
      ]
     },
     "execution_count": 4,
     "metadata": {},
     "output_type": "execute_result"
    }
   ],
   "source": [
    "df['quality'].unique()"
   ]
  },
  {
   "cell_type": "markdown",
   "id": "c5c8375a",
   "metadata": {},
   "source": [
    "### The dataset is unbalanced"
   ]
  },
  {
   "cell_type": "code",
   "execution_count": 7,
   "id": "acb95ca6",
   "metadata": {},
   "outputs": [
    {
     "data": {
      "text/plain": [
       "<AxesSubplot:xlabel='quality', ylabel='Count'>"
      ]
     },
     "execution_count": 7,
     "metadata": {},
     "output_type": "execute_result"
    },
    {
     "data": {
      "image/png": "[encoded data removed]",
      "text/plain": [
       "<Figure size 432x288 with 1 Axes>"
      ]
     },
     "metadata": {
      "needs_background": "light"
     },
     "output_type": "display_data"
    }
   ],
   "source": [
    "sns.histplot(data=df, x='quality', palette='Dark2',color='r')"
   ]
  },
  {
   "cell_type": "markdown",
   "id": "f1722d97",
   "metadata": {},
   "source": [
    "### In general, instances that their type is white are greater in number."
   ]
  },
  {
   "cell_type": "code",
   "execution_count": 11,
   "id": "9cec209b",
   "metadata": {},
   "outputs": [
    {
     "data": {
      "text/plain": [
       "<AxesSubplot:xlabel='quality', ylabel='count'>"
      ]
     },
     "execution_count": 11,
     "metadata": {},
     "output_type": "execute_result"
    },
    {
     "data": {
      "image/png": "[encoded data removed]",
      "text/plain": [
       "<Figure size 432x288 with 1 Axes>"
      ]
     },
     "metadata": {
      "needs_background": "light"
     },
     "output_type": "display_data"
    }
   ],
   "source": [
    "sns.countplot(data=df,x='quality',hue='type',palette='Dark2')"
   ]
  },
  {
   "cell_type": "code",
   "execution_count": 14,
   "id": "a994aaba",
   "metadata": {},
   "outputs": [
    {
     "data": {
      "text/plain": [
       "<AxesSubplot:xlabel='quality', ylabel='alcohol'>"
      ]
     },
     "execution_count": 14,
     "metadata": {},
     "output_type": "execute_result"
    },
    {
     "data": {
      "image/png": "[encoded data removed]",
      "text/plain": [
       "<Figure size 432x288 with 1 Axes>"
      ]
     },
     "metadata": {
      "needs_background": "light"
     },
     "output_type": "display_data"
    }
   ],
   "source": [
    "sns.violinplot(data=df,y='alcohol',x='quality',palette='Dark2')"
   ]
  },
  {
   "cell_type": "code",
   "execution_count": 24,
   "id": "2daea203",
   "metadata": {},
   "outputs": [],
   "source": [
    "X = df.drop('quality',axis = 1)\n",
    "Y = df['quality']"
   ]
  },
  {
   "cell_type": "code",
   "execution_count": 25,
   "id": "19e8472b",
   "metadata": {},
   "outputs": [],
   "source": [
    "X = pd.get_dummies(X)"
   ]
  },
  {
   "cell_type": "code",
   "execution_count": 28,
   "id": "78b807f4",
   "metadata": {},
   "outputs": [],
   "source": [
    "from sklearn.model_selection import train_test_split\n",
    "xtrain,xtest,ytrain,ytest = train_test_split(X,Y,test_size=0.3)"
   ]
  },
  {
   "cell_type": "code",
   "execution_count": 29,
   "id": "0bf4d489",
   "metadata": {},
   "outputs": [
    {
     "data": {
      "text/plain": [
       "Legit    4388\n",
       "Fraud     159\n",
       "Name: quality, dtype: int64"
      ]
     },
     "execution_count": 29,
     "metadata": {},
     "output_type": "execute_result"
    }
   ],
   "source": [
    "ytrain.value_counts()"
   ]
  },
  {
   "cell_type": "code",
   "execution_count": 30,
   "id": "96332da0",
   "metadata": {},
   "outputs": [
    {
     "data": {
      "text/plain": [
       "Legit    1863\n",
       "Fraud      87\n",
       "Name: quality, dtype: int64"
      ]
     },
     "execution_count": 30,
     "metadata": {},
     "output_type": "execute_result"
    }
   ],
   "source": [
    "ytest.value_counts()"
   ]
  },
  {
   "cell_type": "code",
   "execution_count": 31,
   "id": "de1619f4",
   "metadata": {},
   "outputs": [],
   "source": [
    "from sklearn.preprocessing import StandardScaler\n",
    "scaler = StandardScaler()\n",
    "scaler.fit(xtrain)\n",
    "xtrain = scaler.transform(xtrain)\n",
    "xtest = scaler.transform(xtest)"
   ]
  },
  {
   "cell_type": "code",
   "execution_count": 39,
   "id": "9b319101",
   "metadata": {},
   "outputs": [],
   "source": [
    "from sklearn.svm import SVC\n",
    "model1 = SVC(class_weight='balanced')\n",
    "model2 = SVC()"
   ]
  },
  {
   "cell_type": "code",
   "execution_count": 40,
   "id": "f937a457",
   "metadata": {},
   "outputs": [
    {
     "data": {
      "text/plain": [
       "SVC()"
      ]
     },
     "execution_count": 40,
     "metadata": {},
     "output_type": "execute_result"
    }
   ],
   "source": [
    "model1.fit(xtrain,ytrain)\n",
    "model2.fit(xtrain,ytrain)"
   ]
  },
  {
   "cell_type": "markdown",
   "id": "d663d98e",
   "metadata": {},
   "source": [
    "## The model with balanced classes performs better"
   ]
  },
  {
   "cell_type": "code",
   "execution_count": 46,
   "id": "18d5c528",
   "metadata": {},
   "outputs": [
    {
     "name": "stdout",
     "output_type": "stream",
     "text": [
      "model with balanced class weights:\n",
      "              precision    recall  f1-score   support\n",
      "\n",
      "       Fraud       0.17      0.66      0.27        87\n",
      "       Legit       0.98      0.85      0.91      1863\n",
      "\n",
      "    accuracy                           0.84      1950\n",
      "   macro avg       0.58      0.75      0.59      1950\n",
      "weighted avg       0.95      0.84      0.88      1950\n",
      "\n",
      "-------------------------------------------------------------------\n",
      "base model:\n",
      "              precision    recall  f1-score   support\n",
      "\n",
      "       Fraud       0.00      0.00      0.00        87\n",
      "       Legit       0.96      1.00      0.98      1863\n",
      "\n",
      "    accuracy                           0.96      1950\n",
      "   macro avg       0.48      0.50      0.49      1950\n",
      "weighted avg       0.91      0.96      0.93      1950\n",
      "\n"
     ]
    }
   ],
   "source": [
    "from sklearn.metrics import classification_report\n",
    "print('model with balanced class weights:')\n",
    "print(classification_report(ytest,model1.predict(xtest)))\n",
    "print('-------------------------------------------------------------------')\n",
    "print('base model:')\n",
    "print(classification_report(ytest,model2.predict(xtest)))"
   ]
  },
  {
   "cell_type": "code",
   "execution_count": 48,
   "id": "eca7f54e",
   "metadata": {},
   "outputs": [
    {
     "data": {
      "text/plain": [
       "SVC(class_weight='balanced')"
      ]
     },
     "execution_count": 48,
     "metadata": {},
     "output_type": "execute_result"
    }
   ],
   "source": [
    "linear = SVC(kernel='linear',class_weight='balanced')\n",
    "poly = SVC(kernel='poly',class_weight='balanced')\n",
    "rbf = SVC(kernel='rbf',class_weight='balanced')\n",
    "linear.fit(xtrain,ytrain)\n",
    "poly.fit(xtrain,ytrain)\n",
    "rbf.fit(xtrain,ytrain)"
   ]
  },
  {
   "cell_type": "markdown",
   "id": "feb7f4f6",
   "metadata": {},
   "source": [
    "## Polynmial kernel performs the best"
   ]
  },
  {
   "cell_type": "code",
   "execution_count": 49,
   "id": "5d7eaa62",
   "metadata": {},
   "outputs": [
    {
     "name": "stdout",
     "output_type": "stream",
     "text": [
      "Model with Linear kernel:\n",
      "              precision    recall  f1-score   support\n",
      "\n",
      "       Fraud       0.13      0.69      0.22        87\n",
      "       Legit       0.98      0.79      0.87      1863\n",
      "\n",
      "    accuracy                           0.78      1950\n",
      "   macro avg       0.56      0.74      0.55      1950\n",
      "weighted avg       0.94      0.78      0.84      1950\n",
      "\n",
      "-------------------------------------------------------------------\n",
      "Model with Polynomial kernel:\n",
      "              precision    recall  f1-score   support\n",
      "\n",
      "       Fraud       0.19      0.57      0.28        87\n",
      "       Legit       0.98      0.88      0.93      1863\n",
      "\n",
      "    accuracy                           0.87      1950\n",
      "   macro avg       0.58      0.73      0.60      1950\n",
      "weighted avg       0.94      0.87      0.90      1950\n",
      "\n",
      "-------------------------------------------------------------------\n",
      "Model with Radial Basis Function kernel:\n",
      "              precision    recall  f1-score   support\n",
      "\n",
      "       Fraud       0.17      0.66      0.27        87\n",
      "       Legit       0.98      0.85      0.91      1863\n",
      "\n",
      "    accuracy                           0.84      1950\n",
      "   macro avg       0.58      0.75      0.59      1950\n",
      "weighted avg       0.95      0.84      0.88      1950\n",
      "\n"
     ]
    }
   ],
   "source": [
    "print('Model with Linear kernel:')\n",
    "print(classification_report(ytest,linear.predict(xtest)))\n",
    "print('-------------------------------------------------------------------')\n",
    "print('Model with Polynomial kernel:')\n",
    "print(classification_report(ytest,poly.predict(xtest)))\n",
    "print('-------------------------------------------------------------------')\n",
    "print('Model with Radial Basis Function kernel:')\n",
    "print(classification_report(ytest,rbf.predict(xtest)))"
   ]
  },
  {
   "cell_type": "code",
   "execution_count": 51,
   "id": "b685d1eb",
   "metadata": {},
   "outputs": [
    {
     "name": "stdout",
     "output_type": "stream",
     "text": [
      "Polynomial kernel with degree = 1\n",
      "0.9553846153846154\n",
      "-----------------------------------\n",
      "Polynomial kernel with degree = 2\n",
      "0.9553846153846154\n",
      "-----------------------------------\n",
      "Polynomial kernel with degree = 3\n",
      "0.9574358974358974\n",
      "-----------------------------------\n",
      "Polynomial kernel with degree = 4\n",
      "0.9553846153846154\n",
      "-----------------------------------\n",
      "Polynomial kernel with degree = 5\n",
      "0.9517948717948718\n",
      "-----------------------------------\n",
      "Polynomial kernel with degree = 6\n",
      "0.9533333333333334\n",
      "-----------------------------------\n",
      "Polynomial kernel with degree = 7\n",
      "0.9543589743589743\n",
      "-----------------------------------\n",
      "Polynomial kernel with degree = 8\n",
      "0.9538461538461539\n",
      "-----------------------------------\n",
      "Polynomial kernel with degree = 9\n",
      "0.9523076923076923\n",
      "-----------------------------------\n",
      "Polynomial kernel with degree = 10\n",
      "0.9497435897435897\n",
      "-----------------------------------\n",
      "Polynomial kernel with degree = 11\n",
      "0.9471794871794872\n",
      "-----------------------------------\n",
      "Polynomial kernel with degree = 12\n",
      "0.9482051282051283\n",
      "-----------------------------------\n",
      "Polynomial kernel with degree = 13\n",
      "0.9466666666666667\n",
      "-----------------------------------\n",
      "Polynomial kernel with degree = 14\n",
      "0.9466666666666667\n",
      "-----------------------------------\n"
     ]
    }
   ],
   "source": [
    "from sklearn.metrics import accuracy_score\n",
    "for i in range(1,15):\n",
    "    model = SVC(kernel='poly',degree=i)\n",
    "    model.fit(xtrain,ytrain)\n",
    "    print('Polynomial kernel with degree = ',end='')\n",
    "    print(i)\n",
    "    print(accuracy_score(ytest,model.predict(xtest)))\n",
    "    print('-----------------------------------')"
   ]
  }
 ],
 "metadata": {
  "kernelspec": {
   "display_name": "Python 3 (ipykernel)",
   "language": "python",
   "name": "python3"
  },
  "language_info": {
   "codemirror_mode": {
    "name": "ipython",
    "version": 3
   },
   "file_extension": ".py",
   "mimetype": "text/x-python",
   "name": "python",
   "nbconvert_exporter": "python",
   "pygments_lexer": "ipython3",
   "version": "3.9.7"
  }
 },
 "nbformat": 4,
 "nbformat_minor": 5
}
