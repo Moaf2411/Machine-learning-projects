{
 "cells": [
  {
   "cell_type": "markdown",
   "id": "7ded95d9",
   "metadata": {},
   "source": [
    "# Linear Regression and Polynomial Regression"
   ]
  },
  {
   "cell_type": "code",
   "execution_count": 1,
   "id": "e081b3d4",
   "metadata": {},
   "outputs": [],
   "source": [
    "import numpy as np\n",
    "import pandas as pd\n",
    "import matplotlib.pyplot as plt\n",
    "import seaborn as sns"
   ]
  },
  {
   "cell_type": "code",
   "execution_count": 45,
   "id": "2371739f",
   "metadata": {},
   "outputs": [],
   "source": [
    "df = pd.read_csv('Ames_Housing_Data.csv')"
   ]
  },
  {
   "cell_type": "code",
   "execution_count": 3,
   "id": "a9bfdc5e",
   "metadata": {},
   "outputs": [
    {
     "data": {
      "text/html": [
       "<div>\n",
       "<style scoped>\n",
       "    .dataframe tbody tr th:only-of-type {\n",
       "        vertical-align: middle;\n",
       "    }\n",
       "\n",
       "    .dataframe tbody tr th {\n",
       "        vertical-align: top;\n",
       "    }\n",
       "\n",
       "    .dataframe thead th {\n",
       "        text-align: right;\n",
       "    }\n",
       "</style>\n",
       "<table border=\"1\" class=\"dataframe\">\n",
       "  <thead>\n",
       "    <tr style=\"text-align: right;\">\n",
       "      <th></th>\n",
       "      <th>PID</th>\n",
       "      <th>MS SubClass</th>\n",
       "      <th>MS Zoning</th>\n",
       "      <th>Lot Frontage</th>\n",
       "      <th>Lot Area</th>\n",
       "      <th>Street</th>\n",
       "      <th>Alley</th>\n",
       "      <th>Lot Shape</th>\n",
       "      <th>Land Contour</th>\n",
       "      <th>Utilities</th>\n",
       "      <th>...</th>\n",
       "      <th>Pool Area</th>\n",
       "      <th>Pool QC</th>\n",
       "      <th>Fence</th>\n",
       "      <th>Misc Feature</th>\n",
       "      <th>Misc Val</th>\n",
       "      <th>Mo Sold</th>\n",
       "      <th>Yr Sold</th>\n",
       "      <th>Sale Type</th>\n",
       "      <th>Sale Condition</th>\n",
       "      <th>SalePrice</th>\n",
       "    </tr>\n",
       "  </thead>\n",
       "  <tbody>\n",
       "    <tr>\n",
       "      <th>0</th>\n",
       "      <td>526301100</td>\n",
       "      <td>20</td>\n",
       "      <td>RL</td>\n",
       "      <td>141.0</td>\n",
       "      <td>31770</td>\n",
       "      <td>Pave</td>\n",
       "      <td>NaN</td>\n",
       "      <td>IR1</td>\n",
       "      <td>Lvl</td>\n",
       "      <td>AllPub</td>\n",
       "      <td>...</td>\n",
       "      <td>0</td>\n",
       "      <td>NaN</td>\n",
       "      <td>NaN</td>\n",
       "      <td>NaN</td>\n",
       "      <td>0</td>\n",
       "      <td>5</td>\n",
       "      <td>2010</td>\n",
       "      <td>WD</td>\n",
       "      <td>Normal</td>\n",
       "      <td>215000</td>\n",
       "    </tr>\n",
       "    <tr>\n",
       "      <th>1</th>\n",
       "      <td>526350040</td>\n",
       "      <td>20</td>\n",
       "      <td>RH</td>\n",
       "      <td>80.0</td>\n",
       "      <td>11622</td>\n",
       "      <td>Pave</td>\n",
       "      <td>NaN</td>\n",
       "      <td>Reg</td>\n",
       "      <td>Lvl</td>\n",
       "      <td>AllPub</td>\n",
       "      <td>...</td>\n",
       "      <td>0</td>\n",
       "      <td>NaN</td>\n",
       "      <td>MnPrv</td>\n",
       "      <td>NaN</td>\n",
       "      <td>0</td>\n",
       "      <td>6</td>\n",
       "      <td>2010</td>\n",
       "      <td>WD</td>\n",
       "      <td>Normal</td>\n",
       "      <td>105000</td>\n",
       "    </tr>\n",
       "    <tr>\n",
       "      <th>2</th>\n",
       "      <td>526351010</td>\n",
       "      <td>20</td>\n",
       "      <td>RL</td>\n",
       "      <td>81.0</td>\n",
       "      <td>14267</td>\n",
       "      <td>Pave</td>\n",
       "      <td>NaN</td>\n",
       "      <td>IR1</td>\n",
       "      <td>Lvl</td>\n",
       "      <td>AllPub</td>\n",
       "      <td>...</td>\n",
       "      <td>0</td>\n",
       "      <td>NaN</td>\n",
       "      <td>NaN</td>\n",
       "      <td>Gar2</td>\n",
       "      <td>12500</td>\n",
       "      <td>6</td>\n",
       "      <td>2010</td>\n",
       "      <td>WD</td>\n",
       "      <td>Normal</td>\n",
       "      <td>172000</td>\n",
       "    </tr>\n",
       "    <tr>\n",
       "      <th>3</th>\n",
       "      <td>526353030</td>\n",
       "      <td>20</td>\n",
       "      <td>RL</td>\n",
       "      <td>93.0</td>\n",
       "      <td>11160</td>\n",
       "      <td>Pave</td>\n",
       "      <td>NaN</td>\n",
       "      <td>Reg</td>\n",
       "      <td>Lvl</td>\n",
       "      <td>AllPub</td>\n",
       "      <td>...</td>\n",
       "      <td>0</td>\n",
       "      <td>NaN</td>\n",
       "      <td>NaN</td>\n",
       "      <td>NaN</td>\n",
       "      <td>0</td>\n",
       "      <td>4</td>\n",
       "      <td>2010</td>\n",
       "      <td>WD</td>\n",
       "      <td>Normal</td>\n",
       "      <td>244000</td>\n",
       "    </tr>\n",
       "    <tr>\n",
       "      <th>4</th>\n",
       "      <td>527105010</td>\n",
       "      <td>60</td>\n",
       "      <td>RL</td>\n",
       "      <td>74.0</td>\n",
       "      <td>13830</td>\n",
       "      <td>Pave</td>\n",
       "      <td>NaN</td>\n",
       "      <td>IR1</td>\n",
       "      <td>Lvl</td>\n",
       "      <td>AllPub</td>\n",
       "      <td>...</td>\n",
       "      <td>0</td>\n",
       "      <td>NaN</td>\n",
       "      <td>MnPrv</td>\n",
       "      <td>NaN</td>\n",
       "      <td>0</td>\n",
       "      <td>3</td>\n",
       "      <td>2010</td>\n",
       "      <td>WD</td>\n",
       "      <td>Normal</td>\n",
       "      <td>189900</td>\n",
       "    </tr>\n",
       "  </tbody>\n",
       "</table>\n",
       "<p>5 rows × 81 columns</p>\n",
       "</div>"
      ],
      "text/plain": [
       "         PID  MS SubClass MS Zoning  Lot Frontage  Lot Area Street Alley  \\\n",
       "0  526301100           20        RL         141.0     31770   Pave   NaN   \n",
       "1  526350040           20        RH          80.0     11622   Pave   NaN   \n",
       "2  526351010           20        RL          81.0     14267   Pave   NaN   \n",
       "3  526353030           20        RL          93.0     11160   Pave   NaN   \n",
       "4  527105010           60        RL          74.0     13830   Pave   NaN   \n",
       "\n",
       "  Lot Shape Land Contour Utilities  ... Pool Area Pool QC  Fence Misc Feature  \\\n",
       "0       IR1          Lvl    AllPub  ...         0     NaN    NaN          NaN   \n",
       "1       Reg          Lvl    AllPub  ...         0     NaN  MnPrv          NaN   \n",
       "2       IR1          Lvl    AllPub  ...         0     NaN    NaN         Gar2   \n",
       "3       Reg          Lvl    AllPub  ...         0     NaN    NaN          NaN   \n",
       "4       IR1          Lvl    AllPub  ...         0     NaN  MnPrv          NaN   \n",
       "\n",
       "  Misc Val Mo Sold Yr Sold  Sale Type  Sale Condition  SalePrice  \n",
       "0        0       5    2010        WD           Normal     215000  \n",
       "1        0       6    2010        WD           Normal     105000  \n",
       "2    12500       6    2010        WD           Normal     172000  \n",
       "3        0       4    2010        WD           Normal     244000  \n",
       "4        0       3    2010        WD           Normal     189900  \n",
       "\n",
       "[5 rows x 81 columns]"
      ]
     },
     "execution_count": 3,
     "metadata": {},
     "output_type": "execute_result"
    }
   ],
   "source": [
    "df.head()"
   ]
  },
  {
   "cell_type": "code",
   "execution_count": 9,
   "id": "3c20ba42",
   "metadata": {},
   "outputs": [
    {
     "data": {
      "text/plain": [
       "<AxesSubplot:xlabel='Lot Area', ylabel='SalePrice'>"
      ]
     },
     "execution_count": 9,
     "metadata": {},
     "output_type": "execute_result"
    },
    {
     "data": {
      "image/png": "[encoded data removed]",
      "text/plain": [
       "<Figure size 432x288 with 1 Axes>"
      ]
     },
     "metadata": {
      "needs_background": "light"
     },
     "output_type": "display_data"
    }
   ],
   "source": [
    "# detecting outliers \n",
    "sns.scatterplot(data=df,x='Lot Area',y='SalePrice')"
   ]
  },
  {
   "cell_type": "code",
   "execution_count": 10,
   "id": "27551618",
   "metadata": {},
   "outputs": [
    {
     "data": {
      "text/html": [
       "<div>\n",
       "<style scoped>\n",
       "    .dataframe tbody tr th:only-of-type {\n",
       "        vertical-align: middle;\n",
       "    }\n",
       "\n",
       "    .dataframe tbody tr th {\n",
       "        vertical-align: top;\n",
       "    }\n",
       "\n",
       "    .dataframe thead th {\n",
       "        text-align: right;\n",
       "    }\n",
       "</style>\n",
       "<table border=\"1\" class=\"dataframe\">\n",
       "  <thead>\n",
       "    <tr style=\"text-align: right;\">\n",
       "      <th></th>\n",
       "      <th>PID</th>\n",
       "      <th>MS SubClass</th>\n",
       "      <th>MS Zoning</th>\n",
       "      <th>Lot Frontage</th>\n",
       "      <th>Lot Area</th>\n",
       "      <th>Street</th>\n",
       "      <th>Alley</th>\n",
       "      <th>Lot Shape</th>\n",
       "      <th>Land Contour</th>\n",
       "      <th>Utilities</th>\n",
       "      <th>...</th>\n",
       "      <th>Pool Area</th>\n",
       "      <th>Pool QC</th>\n",
       "      <th>Fence</th>\n",
       "      <th>Misc Feature</th>\n",
       "      <th>Misc Val</th>\n",
       "      <th>Mo Sold</th>\n",
       "      <th>Yr Sold</th>\n",
       "      <th>Sale Type</th>\n",
       "      <th>Sale Condition</th>\n",
       "      <th>SalePrice</th>\n",
       "    </tr>\n",
       "  </thead>\n",
       "  <tbody>\n",
       "    <tr>\n",
       "      <th>956</th>\n",
       "      <td>916176125</td>\n",
       "      <td>20</td>\n",
       "      <td>RL</td>\n",
       "      <td>150.0</td>\n",
       "      <td>215245</td>\n",
       "      <td>Pave</td>\n",
       "      <td>NaN</td>\n",
       "      <td>IR3</td>\n",
       "      <td>Low</td>\n",
       "      <td>AllPub</td>\n",
       "      <td>...</td>\n",
       "      <td>0</td>\n",
       "      <td>NaN</td>\n",
       "      <td>NaN</td>\n",
       "      <td>NaN</td>\n",
       "      <td>0</td>\n",
       "      <td>6</td>\n",
       "      <td>2009</td>\n",
       "      <td>WD</td>\n",
       "      <td>Normal</td>\n",
       "      <td>375000</td>\n",
       "    </tr>\n",
       "    <tr>\n",
       "      <th>1570</th>\n",
       "      <td>916125425</td>\n",
       "      <td>190</td>\n",
       "      <td>RL</td>\n",
       "      <td>NaN</td>\n",
       "      <td>164660</td>\n",
       "      <td>Grvl</td>\n",
       "      <td>NaN</td>\n",
       "      <td>IR1</td>\n",
       "      <td>HLS</td>\n",
       "      <td>AllPub</td>\n",
       "      <td>...</td>\n",
       "      <td>0</td>\n",
       "      <td>NaN</td>\n",
       "      <td>NaN</td>\n",
       "      <td>Shed</td>\n",
       "      <td>700</td>\n",
       "      <td>8</td>\n",
       "      <td>2008</td>\n",
       "      <td>WD</td>\n",
       "      <td>Normal</td>\n",
       "      <td>228950</td>\n",
       "    </tr>\n",
       "    <tr>\n",
       "      <th>2071</th>\n",
       "      <td>905301050</td>\n",
       "      <td>20</td>\n",
       "      <td>RL</td>\n",
       "      <td>NaN</td>\n",
       "      <td>115149</td>\n",
       "      <td>Pave</td>\n",
       "      <td>NaN</td>\n",
       "      <td>IR2</td>\n",
       "      <td>Low</td>\n",
       "      <td>AllPub</td>\n",
       "      <td>...</td>\n",
       "      <td>0</td>\n",
       "      <td>NaN</td>\n",
       "      <td>NaN</td>\n",
       "      <td>NaN</td>\n",
       "      <td>0</td>\n",
       "      <td>6</td>\n",
       "      <td>2007</td>\n",
       "      <td>WD</td>\n",
       "      <td>Normal</td>\n",
       "      <td>302000</td>\n",
       "    </tr>\n",
       "    <tr>\n",
       "      <th>2115</th>\n",
       "      <td>906426060</td>\n",
       "      <td>50</td>\n",
       "      <td>RL</td>\n",
       "      <td>NaN</td>\n",
       "      <td>159000</td>\n",
       "      <td>Pave</td>\n",
       "      <td>NaN</td>\n",
       "      <td>IR2</td>\n",
       "      <td>Low</td>\n",
       "      <td>AllPub</td>\n",
       "      <td>...</td>\n",
       "      <td>0</td>\n",
       "      <td>NaN</td>\n",
       "      <td>NaN</td>\n",
       "      <td>Shed</td>\n",
       "      <td>500</td>\n",
       "      <td>6</td>\n",
       "      <td>2007</td>\n",
       "      <td>WD</td>\n",
       "      <td>Normal</td>\n",
       "      <td>277000</td>\n",
       "    </tr>\n",
       "  </tbody>\n",
       "</table>\n",
       "<p>4 rows × 81 columns</p>\n",
       "</div>"
      ],
      "text/plain": [
       "            PID  MS SubClass MS Zoning  Lot Frontage  Lot Area Street Alley  \\\n",
       "956   916176125           20        RL         150.0    215245   Pave   NaN   \n",
       "1570  916125425          190        RL           NaN    164660   Grvl   NaN   \n",
       "2071  905301050           20        RL           NaN    115149   Pave   NaN   \n",
       "2115  906426060           50        RL           NaN    159000   Pave   NaN   \n",
       "\n",
       "     Lot Shape Land Contour Utilities  ... Pool Area Pool QC Fence  \\\n",
       "956        IR3          Low    AllPub  ...         0     NaN   NaN   \n",
       "1570       IR1          HLS    AllPub  ...         0     NaN   NaN   \n",
       "2071       IR2          Low    AllPub  ...         0     NaN   NaN   \n",
       "2115       IR2          Low    AllPub  ...         0     NaN   NaN   \n",
       "\n",
       "     Misc Feature Misc Val Mo Sold Yr Sold  Sale Type  Sale Condition  \\\n",
       "956           NaN        0       6    2009        WD           Normal   \n",
       "1570         Shed      700       8    2008        WD           Normal   \n",
       "2071          NaN        0       6    2007        WD           Normal   \n",
       "2115         Shed      500       6    2007        WD           Normal   \n",
       "\n",
       "      SalePrice  \n",
       "956      375000  \n",
       "1570     228950  \n",
       "2071     302000  \n",
       "2115     277000  \n",
       "\n",
       "[4 rows x 81 columns]"
      ]
     },
     "execution_count": 10,
     "metadata": {},
     "output_type": "execute_result"
    }
   ],
   "source": [
    "df[df['Lot Area'] > 100000]"
   ]
  },
  {
   "cell_type": "code",
   "execution_count": 46,
   "id": "844d40a1",
   "metadata": {},
   "outputs": [],
   "source": [
    "df = df[df['Lot Area'] < 100000]"
   ]
  },
  {
   "cell_type": "code",
   "execution_count": 25,
   "id": "8a06d88a",
   "metadata": {},
   "outputs": [],
   "source": [
    "# missing data\n",
    "nullcount = {}\n",
    "for i in df.columns:\n",
    "    nullcount[i] = (len(df[df[i].isnull()]) / len(df)) * 100"
   ]
  },
  {
   "cell_type": "markdown",
   "id": "0ebe23da",
   "metadata": {},
   "source": [
    "#### null value count for each feature"
   ]
  },
  {
   "cell_type": "code",
   "execution_count": 26,
   "id": "f1cd0163",
   "metadata": {},
   "outputs": [
    {
     "data": {
      "text/plain": [
       "{'PID': 0.0,\n",
       " 'MS SubClass': 0.0,\n",
       " 'MS Zoning': 0.0,\n",
       " 'Lot Frontage': 16.643882433356115,\n",
       " 'Lot Area': 0.0,\n",
       " 'Street': 0.0,\n",
       " 'Alley': 93.23308270676691,\n",
       " 'Lot Shape': 0.0,\n",
       " 'Land Contour': 0.0,\n",
       " 'Utilities': 0.0,\n",
       " 'Lot Config': 0.0,\n",
       " 'Land Slope': 0.0,\n",
       " 'Neighborhood': 0.0,\n",
       " 'Condition 1': 0.0,\n",
       " 'Condition 2': 0.0,\n",
       " 'Bldg Type': 0.0,\n",
       " 'House Style': 0.0,\n",
       " 'Overall Qual': 0.0,\n",
       " 'Overall Cond': 0.0,\n",
       " 'Year Built': 0.0,\n",
       " 'Year Remod/Add': 0.0,\n",
       " 'Roof Style': 0.0,\n",
       " 'Roof Matl': 0.0,\n",
       " 'Exterior 1st': 0.0,\n",
       " 'Exterior 2nd': 0.0,\n",
       " 'Mas Vnr Type': 0.7860560492139439,\n",
       " 'Mas Vnr Area': 0.7860560492139439,\n",
       " 'Exter Qual': 0.0,\n",
       " 'Exter Cond': 0.0,\n",
       " 'Foundation': 0.0,\n",
       " 'Bsmt Qual': 2.734107997265892,\n",
       " 'Bsmt Cond': 2.734107997265892,\n",
       " 'Bsmt Exposure': 2.836637047163363,\n",
       " 'BsmtFin Type 1': 2.734107997265892,\n",
       " 'BsmtFin SF 1': 0.03417634996582365,\n",
       " 'BsmtFin Type 2': 2.768284347231716,\n",
       " 'BsmtFin SF 2': 0.03417634996582365,\n",
       " 'Bsmt Unf SF': 0.03417634996582365,\n",
       " 'Total Bsmt SF': 0.03417634996582365,\n",
       " 'Heating': 0.0,\n",
       " 'Heating QC': 0.0,\n",
       " 'Central Air': 0.0,\n",
       " 'Electrical': 0.03417634996582365,\n",
       " '1st Flr SF': 0.0,\n",
       " '2nd Flr SF': 0.0,\n",
       " 'Low Qual Fin SF': 0.0,\n",
       " 'Gr Liv Area': 0.0,\n",
       " 'Bsmt Full Bath': 0.0683526999316473,\n",
       " 'Bsmt Half Bath': 0.0683526999316473,\n",
       " 'Full Bath': 0.0,\n",
       " 'Half Bath': 0.0,\n",
       " 'Bedroom AbvGr': 0.0,\n",
       " 'Kitchen AbvGr': 0.0,\n",
       " 'Kitchen Qual': 0.0,\n",
       " 'TotRms AbvGrd': 0.0,\n",
       " 'Functional': 0.0,\n",
       " 'Fireplaces': 0.0,\n",
       " 'Fireplace Qu': 48.59876965140123,\n",
       " 'Garage Type': 5.365686944634313,\n",
       " 'Garage Yr Blt': 5.434039644565961,\n",
       " 'Garage Finish': 5.434039644565961,\n",
       " 'Garage Cars': 0.03417634996582365,\n",
       " 'Garage Area': 0.03417634996582365,\n",
       " 'Garage Qual': 5.434039644565961,\n",
       " 'Garage Cond': 5.434039644565961,\n",
       " 'Paved Drive': 0.0,\n",
       " 'Wood Deck SF': 0.0,\n",
       " 'Open Porch SF': 0.0,\n",
       " 'Enclosed Porch': 0.0,\n",
       " '3Ssn Porch': 0.0,\n",
       " 'Screen Porch': 0.0,\n",
       " 'Pool Area': 0.0,\n",
       " 'Pool QC': 99.5557074504443,\n",
       " 'Fence': 80.45112781954887,\n",
       " 'Misc Feature': 96.44565960355435,\n",
       " 'Misc Val': 0.0,\n",
       " 'Mo Sold': 0.0,\n",
       " 'Yr Sold': 0.0,\n",
       " 'Sale Type': 0.0,\n",
       " 'Sale Condition': 0.0,\n",
       " 'SalePrice': 0.0}"
      ]
     },
     "execution_count": 26,
     "metadata": {},
     "output_type": "execute_result"
    }
   ],
   "source": [
    "nullcount"
   ]
  },
  {
   "cell_type": "code",
   "execution_count": 32,
   "id": "3d339392",
   "metadata": {},
   "outputs": [
    {
     "name": "stdout",
     "output_type": "stream",
     "text": [
      "features with more than 80 percent missing values:\n",
      "Alley\n",
      "Pool QC\n",
      "Fence\n",
      "Misc Feature\n"
     ]
    }
   ],
   "source": [
    "print('features with more than 80 percent missing values:')\n",
    "for i in nullcount:\n",
    "    if nullcount[i] > 80:\n",
    "        print(i)"
   ]
  },
  {
   "cell_type": "code",
   "execution_count": 47,
   "id": "e383012c",
   "metadata": {},
   "outputs": [],
   "source": [
    "# removing features with more than 80% missing values.\n",
    "df = df.drop(['Alley','Pool QC', 'Fence' , 'Misc Feature'], axis=1)"
   ]
  },
  {
   "cell_type": "code",
   "execution_count": 49,
   "id": "60bdc576",
   "metadata": {},
   "outputs": [],
   "source": [
    "df = df.fillna(value='None')"
   ]
  },
  {
   "cell_type": "code",
   "execution_count": 50,
   "id": "780b5c26",
   "metadata": {},
   "outputs": [],
   "source": [
    "df = pd.get_dummies(df,drop_first=True)"
   ]
  },
  {
   "cell_type": "markdown",
   "id": "6da3a79b",
   "metadata": {},
   "source": [
    "## building a linear regression model to predict prices."
   ]
  },
  {
   "cell_type": "code",
   "execution_count": 51,
   "id": "df3d228c",
   "metadata": {},
   "outputs": [],
   "source": [
    "X = df.drop('SalePrice',axis=1)\n",
    "Y = df['SalePrice']"
   ]
  },
  {
   "cell_type": "code",
   "execution_count": 52,
   "id": "20cb8d50",
   "metadata": {},
   "outputs": [],
   "source": [
    "from sklearn.model_selection import train_test_split\n",
    "X_train, X_test, y_train, y_test = train_test_split(X,Y,test_size=0.2)"
   ]
  },
  {
   "cell_type": "code",
   "execution_count": 57,
   "id": "789d8da6",
   "metadata": {},
   "outputs": [
    {
     "name": "stdout",
     "output_type": "stream",
     "text": [
      "alpha: 0.1\n",
      "mean squared error: 35623.25993211368\n",
      "------------------------------\n",
      "alpha: 0.3\n",
      "mean squared error: 35623.25993211368\n",
      "------------------------------\n",
      "alpha: 0.5\n",
      "mean squared error: 35623.25993211368\n",
      "------------------------------\n",
      "alpha: 0.7\n",
      "mean squared error: 35623.25993211368\n",
      "------------------------------\n",
      "alpha: 0.9\n",
      "mean squared error: 35623.25993211368\n",
      "------------------------------\n",
      "alpha: 1\n",
      "mean squared error: 35623.25993211368\n",
      "------------------------------\n",
      "alpha: 5\n",
      "mean squared error: 35641.86870681147\n",
      "------------------------------\n",
      "alpha: 10\n",
      "mean squared error: 35628.12294265983\n",
      "------------------------------\n",
      "alpha: 2\n",
      "mean squared error: 35633.55346223525\n",
      "------------------------------\n",
      "alpha: 20\n",
      "mean squared error: 35645.83250122019\n",
      "------------------------------\n",
      "alpha: 50\n",
      "mean squared error: 35632.347318810826\n",
      "------------------------------\n",
      "alpha: 100\n",
      "mean squared error: 35886.08556945765\n",
      "------------------------------\n"
     ]
    }
   ],
   "source": [
    "from sklearn.linear_model import Ridge\n",
    "alpha = [0.1,0.3,0.5,0.7,0.9,1,5,10,2,20,50,100]\n",
    "for a in alpha:\n",
    "    model = Ridge(a)\n",
    "    model.fit(X_train,y_train)\n",
    "    preds = model.predict(X_test)\n",
    "    mse = np.sqrt(np.sum((y_test - preds)**2)/len(preds))\n",
    "    print('alpha:',end=' ')\n",
    "    print(a)\n",
    "    print('mean squared error:', end = ' ')\n",
    "    print(mse)\n",
    "    print('------------------------------')"
   ]
  },
  {
   "cell_type": "code",
   "execution_count": 58,
   "id": "563fcd7d",
   "metadata": {},
   "outputs": [],
   "source": [
    "from sklearn.preprocessing import StandardScaler\n",
    "scaler = StandardScaler()\n",
    "scaler.fit(X_train)\n",
    "X_train = scaler.transform(X_train)\n",
    "X_test = scaler.transform(X_test)"
   ]
  },
  {
   "cell_type": "code",
   "execution_count": 59,
   "id": "23b0b903",
   "metadata": {},
   "outputs": [
    {
     "name": "stdout",
     "output_type": "stream",
     "text": [
      "alpha: 1\n",
      "mean squared error: 38376.43060832864\n",
      "------------------------------\n",
      "alpha: 5\n",
      "mean squared error: 33990.446130114404\n",
      "------------------------------\n",
      "alpha: 10\n",
      "mean squared error: 32898.095110639166\n",
      "------------------------------\n",
      "alpha: 20\n",
      "mean squared error: 31937.161051128525\n",
      "------------------------------\n",
      "alpha: 50\n",
      "mean squared error: 30835.534393225036\n",
      "------------------------------\n",
      "alpha: 100\n",
      "mean squared error: 30173.89574126282\n",
      "------------------------------\n"
     ]
    }
   ],
   "source": [
    "# with standardized features\n",
    "alpha = [1,5,10,20,50,100]\n",
    "for a in alpha:\n",
    "    model = Ridge(a)\n",
    "    model.fit(X_train,y_train)\n",
    "    preds = model.predict(X_test)\n",
    "    mse = np.sqrt(np.sum((y_test - preds)**2)/len(preds))\n",
    "    print('alpha:',end=' ')\n",
    "    print(a)\n",
    "    print('mean squared error:', end = ' ')\n",
    "    print(mse)\n",
    "    print('------------------------------')"
   ]
  },
  {
   "cell_type": "code",
   "execution_count": 87,
   "id": "b29d1ec7",
   "metadata": {},
   "outputs": [
    {
     "data": {
      "text/plain": [
       "[<matplotlib.lines.Line2D at 0x104c567cd0>]"
      ]
     },
     "execution_count": 87,
     "metadata": {},
     "output_type": "execute_result"
    },
    {
     "data": {
      "image/png": "[encoded data removed]",
      "text/plain": [
       "<Figure size 1000x500 with 1 Axes>"
      ]
     },
     "metadata": {
      "needs_background": "light"
     },
     "output_type": "display_data"
    }
   ],
   "source": [
    "y_test = pd.DataFrame(y_test)\n",
    "y_test['predicted'] = preds\n",
    "plt.figure(figsize=(10,5),dpi=100)\n",
    "plt.plot(np.arange(0,len(preds)), np.abs(y_test['SalePrice'] - y_test['predicted']),lw=0.3)"
   ]
  },
  {
   "cell_type": "code",
   "execution_count": 93,
   "id": "c2dd55c5",
   "metadata": {},
   "outputs": [
    {
     "name": "stdout",
     "output_type": "stream",
     "text": [
      "l1_ratio: 0.2\n",
      "mean squared error: 29698.09090488647\n",
      "------------------------------\n",
      "l1_ratio: 0.5\n",
      "mean squared error: 29351.2580095087\n",
      "------------------------------\n",
      "l1_ratio: 0.7\n",
      "mean squared error: 29234.384399890478\n",
      "------------------------------\n",
      "l1_ratio: 0.9\n",
      "mean squared error: 29487.37960855775\n",
      "------------------------------\n",
      "l1_ratio: 1\n",
      "mean squared error: 43959.07489922831\n",
      "------------------------------\n"
     ]
    }
   ],
   "source": [
    "from sklearn.linear_model import ElasticNet\n",
    "l1 = [0.2,0.5,0.7,0.9,1]\n",
    "for l in l1:\n",
    "    model = ElasticNet(l1_ratio=l)\n",
    "    model.fit(X_train,y_train)\n",
    "    preds = model.predict(X_test)\n",
    "    mse = np.sqrt(np.sum((y_test - preds)**2)/len(preds))\n",
    "    print('l1_ratio:',end=' ')\n",
    "    print(l)\n",
    "    print('mean squared error:', end = ' ')\n",
    "    print(mse)\n",
    "    print('------------------------------')"
   ]
  },
  {
   "cell_type": "code",
   "execution_count": 97,
   "id": "5eaf1813",
   "metadata": {},
   "outputs": [
    {
     "data": {
      "text/plain": [
       "180638.92891319207"
      ]
     },
     "execution_count": 97,
     "metadata": {},
     "output_type": "execute_result"
    }
   ],
   "source": [
    "np.mean(df['SalePrice'])"
   ]
  }
 ],
 "metadata": {
  "kernelspec": {
   "display_name": "Python 3 (ipykernel)",
   "language": "python",
   "name": "python3"
  },
  "language_info": {
   "codemirror_mode": {
    "name": "ipython",
    "version": 3
   },
   "file_extension": ".py",
   "mimetype": "text/x-python",
   "name": "python",
   "nbconvert_exporter": "python",
   "pygments_lexer": "ipython3",
   "version": "3.9.7"
  }
 },
 "nbformat": 4,
 "nbformat_minor": 5
}
